{
 "cells": [
  {
   "cell_type": "code",
   "execution_count": 31,
   "metadata": {},
   "outputs": [
    {
     "data": {
      "text/plain": [
       "MannwhitneyuResult(statistic=24396.5, pvalue=3.019831341650885e-22)"
      ]
     },
     "execution_count": 31,
     "metadata": {},
     "output_type": "execute_result"
    }
   ],
   "source": [
    "#hypothesizing high vs low poverty percent and acceptances\n",
    "import pandas as pd\n",
    "import numpy as np\n",
    "import matplotlib.pyplot as plot\n",
    "import scipy.stats as stats\n",
    "\n",
    "df = pd.read_csv('middleSchoolData.csv')\n",
    "\n",
    "df = df.dropna(how='any', subset=['poverty_percent', 'acceptances'])\n",
    "\n",
    "poverty = df['poverty_percent']\n",
    "accepts = df['acceptances']\n",
    "\n",
    "medPov = np.median(df['poverty_percent'])\n",
    "meanPov = np.mean(df['poverty_percent']) #use median instead of mean cuz i feel there could be outliers\n",
    "medPov\n",
    "\n",
    "lowPov = []\n",
    "highPov = []\n",
    "\n",
    "for i in range(len(df['poverty_percent'])):\n",
    "    if poverty.iloc[i] < medPov:\n",
    "        lowPov.append(accepts.iloc[i])\n",
    "    else:\n",
    "        highPov.append(accepts.iloc[i])\n",
    "        \n",
    "stats.mannwhitneyu(lowPov, highPov)\n",
    "    \n",
    "#mann whitney? krukal? one way anova? t??"
   ]
  },
  {
   "cell_type": "code",
   "execution_count": null,
   "metadata": {},
   "outputs": [],
   "source": []
  }
 ],
 "metadata": {
  "kernelspec": {
   "display_name": "Python 3",
   "language": "python",
   "name": "python3"
  },
  "language_info": {
   "codemirror_mode": {
    "name": "ipython",
    "version": 3
   },
   "file_extension": ".py",
   "mimetype": "text/x-python",
   "name": "python",
   "nbconvert_exporter": "python",
   "pygments_lexer": "ipython3",
   "version": "3.8.5"
  }
 },
 "nbformat": 4,
 "nbformat_minor": 4
}
