{
 "cells": [
  {
   "cell_type": "code",
   "execution_count": 27,
   "metadata": {},
   "outputs": [
    {
     "name": "stdout",
     "output_type": "stream",
     "text": [
      "0.20707070707070707\n"
     ]
    }
   ],
   "source": [
    "import pandas as pd\n",
    "import numpy as np\n",
    "import matplotlib.pyplot as plot\n",
    "\n",
    "df = pd.read_csv('middleSchoolData.csv')\n",
    "\n",
    "df = df.dropna(how='any', subset=['acceptances'])\n",
    "\n",
    "accepts90 = df['acceptances'].sum()*0.9 #90% of the total acceptances\n",
    "\n",
    "df = df.sort_values('acceptances', ascending=False)\n",
    "\n",
    "items = df['acceptances'].iteritems()\n",
    "\n",
    "soFar = 0\n",
    "schoolCount = 0\n",
    "\n",
    "for index,item in items:\n",
    "    soFar += item\n",
    "    schoolCount += 1\n",
    "    if soFar >= accepts90:\n",
    "        break;\n",
    "        \n",
    "print(schoolCount/len(df['acceptances']))"
   ]
  },
  {
   "cell_type": "code",
   "execution_count": 74,
   "metadata": {},
   "outputs": [
    {
     "data": {
      "text/plain": [
       "Text(0.5, 1.0, 'Acceptances from Each School')"
      ]
     },
     "execution_count": 74,
     "metadata": {},
     "output_type": "execute_result"
    },
    {
     "data": {
      "image/png": "[encoded data removed]",
      "text/plain": [
       "<Figure size 432x288 with 1 Axes>"
      ]
     },
     "metadata": {
      "needs_background": "light"
     },
     "output_type": "display_data"
    }
   ],
   "source": [
    "acceptHeight = df['acceptances'].tolist()\n",
    "plot.bar(np.arange(594),acceptHeight, width = 3)\n",
    "plot.xlabel('School')\n",
    "plot.ylabel('Acceptances')\n",
    "plot.title('Acceptances from Each School')"
   ]
  },
  {
   "cell_type": "code",
   "execution_count": null,
   "metadata": {},
   "outputs": [],
   "source": []
  }
 ],
 "metadata": {
  "kernelspec": {
   "display_name": "Python 3",
   "language": "python",
   "name": "python3"
  },
  "language_info": {
   "codemirror_mode": {
    "name": "ipython",
    "version": 3
   },
   "file_extension": ".py",
   "mimetype": "text/x-python",
   "name": "python",
   "nbconvert_exporter": "python",
   "pygments_lexer": "ipython3",
   "version": "3.8.5"
  }
 },
 "nbformat": 4,
 "nbformat_minor": 4
}
